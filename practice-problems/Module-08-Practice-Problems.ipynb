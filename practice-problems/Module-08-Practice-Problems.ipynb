{
 "cells": [
  {
   "cell_type": "markdown",
   "metadata": {},
   "source": [
    "### CIS189 Module \\#8 Practice Problems"
   ]
  },
  {
   "cell_type": "markdown",
   "metadata": {},
   "source": [
    "Write a program that reads a string from the user and counts the frequency of each character in the string."
   ]
  },
  {
   "cell_type": "code",
   "execution_count": null,
   "metadata": {},
   "outputs": [],
   "source": [
    "\n",
    "def char_frequency(text):\n",
    "    \"\"\"Counts the frequency of each character in a string.\"\"\"\n",
    "    char_count = {}\n",
    "    for char in text:\n",
    "        if char not in char_count:\n",
    "            char_count[char] = 0\n",
    "        char_count[char] += 1\n",
    "    return char_count\n",
    "\n",
    "\n",
    "# Get user input\n",
    "text = input(\"Enter a string: \")\n",
    "\n",
    "# Count character frequencies\n",
    "frequencies = char_frequency(text)\n",
    "\n",
    "# Print results\n",
    "print(\"Character frequencies:\")\n",
    "for char, count in frequencies.items():\n",
    "  print(f\"{char}: {count}\")\n",
    "\n"
   ]
  },
  {
   "cell_type": "code",
   "execution_count": 2,
   "metadata": {},
   "outputs": [
    {
     "data": {
      "text/plain": [
       "Counter({' ': 8,\n",
       "         'e': 5,\n",
       "         'l': 5,\n",
       "         'h': 4,\n",
       "         'i': 4,\n",
       "         's': 3,\n",
       "         'w': 2,\n",
       "         'a': 2,\n",
       "         't': 2,\n",
       "         'g': 2,\n",
       "         'n': 2,\n",
       "         'S': 1,\n",
       "         'k': 1,\n",
       "         'o': 1,\n",
       "         'v': 1})"
      ]
     },
     "execution_count": 2,
     "metadata": {},
     "output_type": "execute_result"
    }
   ],
   "source": [
    "# Can also use Counter from collections.\n",
    "\n",
    "from collections import Counter\n",
    "\n",
    "text = \"She walks these ghills in a long white veil\"\n",
    "\n",
    "dfreqs = Counter(text)\n",
    "\n",
    "dfreqs\n"
   ]
  },
  {
   "cell_type": "markdown",
   "metadata": {},
   "source": [
    "Write a program that updates values in a dictionary based on a condition. For example, increase the price of all items in a shopping cart by 10% if their price is above $10. Assume cart contains the following:\n",
    "\n",
    "> `cart =  {\"apple\": 2.5, \"banana\": 1.5, \"milk\": 4.2, \"gin\": 40, \"flowers\": 17}`\n"
   ]
  },
  {
   "cell_type": "code",
   "execution_count": null,
   "metadata": {},
   "outputs": [],
   "source": [
    "\n",
    "\n",
    "def update_prices(shopping_cart, increase_pct):\n",
    "  \"\"\"Updates prices in a shopping cart dictionary conditionally.\"\"\"\n",
    "  for item, price in shopping_cart.items():\n",
    "    if price > 10:\n",
    "      new_price = price * (1 + increase_pct/100)\n",
    "      shopping_cart[item] = new_price\n",
    "  return shopping_cart\n",
    "\n",
    "\n",
    "# Sample shopping cart\n",
    "cart = {\"apple\": 2.5, \"banana\": 1.5, \"milk\": 4.2}\n",
    "\n",
    "# Update prices for items above $10 with a 10% increase\n",
    "updated_cart = update_prices(cart.copy(), 10)  # Copy the dictionary to avoid modifying the original\n",
    "\n",
    "# Print updated cart\n",
    "print(updated_cart)"
   ]
  }
 ],
 "metadata": {
  "kernelspec": {
   "display_name": "Python 3",
   "language": "python",
   "name": "python3"
  },
  "language_info": {
   "codemirror_mode": {
    "name": "ipython",
    "version": 3
   },
   "file_extension": ".py",
   "mimetype": "text/x-python",
   "name": "python",
   "nbconvert_exporter": "python",
   "pygments_lexer": "ipython3",
   "version": "3.12.0"
  }
 },
 "nbformat": 4,
 "nbformat_minor": 2
}
